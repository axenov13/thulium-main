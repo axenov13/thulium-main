{
 "cells": [
  {
   "cell_type": "code",
   "execution_count": 2,
   "metadata": {
    "collapsed": false
   },
   "outputs": [
    {
     "name": "stdout",
     "output_type": "stream",
     "text": [
      "Populating the interactive namespace from numpy and matplotlib\n"
     ]
    }
   ],
   "source": [
    "%pylab inline"
   ]
  },
  {
   "cell_type": "code",
   "execution_count": 4,
   "metadata": {
    "collapsed": true
   },
   "outputs": [],
   "source": [
    "import PyQt4"
   ]
  },
  {
   "cell_type": "markdown",
   "metadata": {},
   "source": [
    "Все должно быть разделено на классы\n",
    "\n",
    "Объемлещий - pulse_group, представляющий группу импльсов (first_stage_cooling, thecond_stage_cooling, probe, etc)\n",
    "\n",
    "и для конкретного импульса в классе - individual_pulse\n",
    "\n",
    "\n",
    "Шаттер должен присоединяться к конкретному импульсу."
   ]
  },
  {
   "cell_type": "code",
   "execution_count": null,
   "metadata": {
    "collapsed": true
   },
   "outputs": [],
   "source": [
    "Основные ворпосы\n",
    "\n",
    "1. Как делать синхронизацию групп\n",
    "2. Что хранить в индивидуальных импульсах - абсолютный тайминг или только относительный"
   ]
  },
  {
   "cell_type": "code",
   "execution_count": null,
   "metadata": {
    "collapsed": true
   },
   "outputs": [],
   "source": [
    "class digital_pulses():\n",
    "    # can be done as QWidget \n",
    "    schemes = [] # schemes with saved groups and pulses\n",
    "    groups = [] # list of all pulse_groups \n",
    "    def construct_widget():\n",
    "        # few buttons like save, add_scheme (to add current version of the scheme) and so on\n",
    "        self.current_scheme # set_current_scheme (may be from last session)\n",
    "        self.pulses_tabs = QTabWidget() # initialize tab widget with tabs for pulse_groups \n",
    "        for p_group in current_scheme:\n",
    "            self.pulses_tabs.addTab(p_group.get_tab(SMTH),p_group.name)\n",
    "        #probably here i have to return widget or smth\n",
    "class pulse_group():\n",
    "    def  __init__(self):\n",
    "        pass\n",
    "        name = ''   # name of the group\n",
    "        start_from_what = 0 # from wchich chennel or group to start - yet to figure out how to do this\n",
    "                            # 0 corresponds to the beggining of the period (start of the cooling)\n",
    "        start_from_beggining_or_end = 0 # to start whether from the beginning or end of th start_from_what \n",
    "                                        # 0 - beginning, 1 - end\n",
    "        start_from_delay = 0 # delay \n",
    "        length = 0 # length of pulse_group (can be negative - how to handle?)\n",
    "        is_active = True # is the pulse_group now active\n",
    "        pulses = []\n",
    "    t_start # absolute time of the beginning of the group\n",
    "    t_end # absolute time of the end of the group\n",
    "    def get_tab(parent):\n",
    "        # the part how to show pulse group with pyqt, maybe one would need additional class\n",
    "        main_vbox = VBOX\n",
    "        group_hbox = HBOX\n",
    "        \n",
    "    \n",
    "\n",
    "class individual_pulse():\n",
    "    channel # physical channel of the signal (or may be name in dictionary)\n",
    "    the_same_as_group # replicate timing of the group\n",
    "    from_begin_or_end # start the pulse from group's t_start or t_end\n",
    "    delay # delay compared to group t_start or t_end\n",
    "    t_start # absolute time of the beginning of the pulse\n",
    "    length # length of pulse_group (can be negative - how to handle?)\n",
    "    t_end # absolute time of the end of the group\n",
    "    is_active # is the pulse_group now active\n",
    "    attached_shutters # list of attached shutters to particular this pulse - can be usefull when more then 1 shutter is needed"
   ]
  }
 ],
 "metadata": {
  "anaconda-cloud": {},
  "kernelspec": {
   "display_name": "Python [conda root]",
   "language": "python",
   "name": "conda-root-py"
  },
  "language_info": {
   "codemirror_mode": {
    "name": "ipython",
    "version": 3.0
   },
   "file_extension": ".py",
   "mimetype": "text/x-python",
   "name": "python",
   "nbconvert_exporter": "python",
   "pygments_lexer": "ipython3",
   "version": "3.4.5"
  },
  "latex_envs": {
   "bibliofile": "biblio.bib",
   "cite_by": "apalike",
   "current_citInitial": 1.0,
   "eqLabelWithNumbers": true,
   "eqNumInitial": 0.0
  }
 },
 "nbformat": 4,
 "nbformat_minor": 0
}