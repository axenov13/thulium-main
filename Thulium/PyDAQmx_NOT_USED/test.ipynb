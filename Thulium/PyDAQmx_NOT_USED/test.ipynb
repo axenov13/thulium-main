{
 "cells": [
  {
   "cell_type": "code",
   "execution_count": 1,
   "metadata": {
    "collapsed": false
   },
   "outputs": [
    {
     "name": "stdout",
     "output_type": "stream",
     "text": [
      "Populating the interactive namespace from numpy and matplotlib\n"
     ]
    }
   ],
   "source": [
    "%pylab inline\n",
    "import PyDAQmx as dq"
   ]
  },
  {
   "cell_type": "code",
   "execution_count": 2,
   "metadata": {
    "collapsed": true
   },
   "outputs": [],
   "source": [
    "# create tasks\n",
    "# for EveryNCallback functionality create your own class, e.g.:\n",
    "# class DigitalOutput(dq.Task)\n",
    "DOTask = dq.Task()\n",
    "AOTask = dq.Task()"
   ]
  },
  {
   "cell_type": "code",
   "execution_count": 3,
   "metadata": {
    "collapsed": true
   },
   "outputs": [],
   "source": [
    "# example pulses\n",
    "# uint32 value maps to 32 lines:\n",
    "# lsb -> Dev1/port0/line0 (odd number means 1, even means 0)\n",
    "# ...\n",
    "# msb -> Dev1/port0/line31 (2**31 and higher means 1)\n",
    "DOData = np.array([2**15+100-x for x in range(0,1000)], dtype=np.uint32)\n",
    "AOData = np.array([np.exp(-(x%100)/50) for x in range(0,200)], dtype=np.double)"
   ]
  },
  {
   "cell_type": "code",
   "execution_count": 4,
   "metadata": {
    "collapsed": true
   },
   "outputs": [],
   "source": [
    "# zero-pulses\n",
    "DOData = np.array([0 for x in range(0,1000)], dtype=np.uint32)\n",
    "AOData = np.array([0 for x in range(0,200)], dtype=np.double)"
   ]
  },
  {
   "cell_type": "code",
   "execution_count": 5,
   "metadata": {
    "code_folding": [],
    "collapsed": true
   },
   "outputs": [],
   "source": [
    "# create channels to write data to\n",
    "DOTask.CreateDOChan('Dev1/port0',\"\",dq.DAQmx_Val_ChanForAllLines)\n",
    "for x in range(0,2):\n",
    "    AOTask.CreateAOVoltageChan('Dev1/ao'+str(x),\"\",-10.0,10.0,dq.DAQmx_Val_Volts,None)"
   ]
  },
  {
   "cell_type": "code",
   "execution_count": 6,
   "metadata": {
    "collapsed": true
   },
   "outputs": [],
   "source": [
    "# configure timing and sync\n",
    "# DOTask uses /Dev1/do/SampleCLock\n",
    "# AOTask uses /Dev1/ao/SampleClock\n",
    "# AOTask triggers by /Dev1/do/StartTrigger\n",
    "DOTask.CfgSampClkTiming(\"\",1000000.0,dq.DAQmx_Val_Rising,dq.DAQmx_Val_ContSamps,1000)\n",
    "AOTask.CfgSampClkTiming(\"\",100000.0,dq.DAQmx_Val_Rising,dq.DAQmx_Val_ContSamps,100)\n",
    "AOTask.CfgDigEdgeStartTrig('/Dev1/do/StartTrigger',dq.DAQmx_Val_Rising)"
   ]
  },
  {
   "cell_type": "code",
   "execution_count": 7,
   "metadata": {
    "collapsed": false
   },
   "outputs": [],
   "source": [
    "# write data\n",
    "# remember to use dtype=np.uint8/double for np.array\n",
    "#DOTask.WriteDigitalLines(1000,0,10.0,dq.DAQmx_Val_GroupByChannel,DOData,None,None)\n",
    "DOTask.WriteDigitalU32(1000,0,10.0,dq.DAQmx_Val_GroupByChannel,DOData,None,None)\n",
    "AOTask.WriteAnalogF64(100,0,10.0,dq.DAQmx_Val_GroupByChannel,AOData,None,None)"
   ]
  },
  {
   "cell_type": "code",
   "execution_count": 8,
   "metadata": {
    "collapsed": false
   },
   "outputs": [],
   "source": [
    "AOTask.StartTask()\n",
    "DOTask.StartTask()"
   ]
  },
  {
   "cell_type": "code",
   "execution_count": 9,
   "metadata": {
    "collapsed": false
   },
   "outputs": [],
   "source": [
    "DOTask.StopTask()\n",
    "AOTask.StopTask()"
   ]
  },
  {
   "cell_type": "code",
   "execution_count": 10,
   "metadata": {
    "collapsed": true
   },
   "outputs": [],
   "source": [
    "DOTask.ClearTask()\n",
    "AOTask.ClearTask()"
   ]
  },
  {
   "cell_type": "code",
   "execution_count": 11,
   "metadata": {
    "collapsed": false
   },
   "outputs": [
    {
     "name": "stdout",
     "output_type": "stream",
     "text": [
      "Help on function AutoRegisterEveryNSamplesEvent in module PyDAQmx.Task:\n",
      "\n",
      "AutoRegisterEveryNSamplesEvent(self, everyNsamplesEventType, nSamples, options, name='EveryNCallback')\n",
      "    Register the method named name as the callback function for EveryNSamplesEvent\n",
      "    \n",
      "    \n",
      "    With this method you can register a method of the class Task as a callback function. \n",
      "    The parameters everyNsamplesEventType, nSamples and options are the same \n",
      "    as the DAQmxRegisterEveryNSamplesEvent parameters\n",
      "    \n",
      "    No parameters are passed to the method  \n",
      "    \n",
      "    If an event was already registered, the UnregisterEveryNSamplesEvent is automatically called\n",
      "\n"
     ]
    }
   ],
   "source": [
    "help(dq.Task.AutoRegisterEveryNSamplesEvent)"
   ]
  }
 ],
 "metadata": {
  "anaconda-cloud": {},
  "hide_input": false,
  "kernelspec": {
   "display_name": "Python [default]",
   "language": "python",
   "name": "python3"
  },
  "language_info": {
   "codemirror_mode": {
    "name": "ipython",
    "version": 3
   },
   "file_extension": ".py",
   "mimetype": "text/x-python",
   "name": "python",
   "nbconvert_exporter": "python",
   "pygments_lexer": "ipython3",
   "version": "3.5.2"
  },
  "latex_envs": {
   "bibliofile": "biblio.bib",
   "cite_by": "apalike",
   "current_citInitial": 1,
   "eqLabelWithNumbers": true,
   "eqNumInitial": 0
  }
 },
 "nbformat": 4,
 "nbformat_minor": 0
}
